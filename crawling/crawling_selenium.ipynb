{
 "cells": [
  {
   "cell_type": "code",
   "execution_count": null,
   "metadata": {},
   "outputs": [],
   "source": [
    "from selenium import webdriver\n",
    "from selenium.webdriver.common.keys import Keys\n",
    "from selenium.webdriver.common.by import By\n",
    "import urllib.request\n",
    "import time\n",
    "import urllib.request\n",
    "\n",
    "\n",
    "\n",
    "driver = webdriver.Chrome()\n",
    "driver.get(\"https://www.google.co.kr/imghp?hl=ko&ogbl\")\n",
    "# elem = driver.find_element_by_name(\"q\") 업데이트로 인해 구문 바뀜l\n",
    "elem = driver.find_element(\"name\", \"q\")\n",
    "elem.send_keys(\"붕어빵\")\n",
    "# elem.send_keys(Keys.RETURN) 더 간편한 submit()으로 대체\n",
    "elem.submit()\n",
    "\n",
    "\n",
    "# 이미지 주소와 저장을 테스트\n",
    "# driver.find_elements(By.CSS_SELECTOR,\"a.wXeWr.islib.nfEiy\")[0].click()\n",
    "# time.sleep(3)\n",
    "# # print(driver.find_element(By.CSS_SELECTOR,\".n3VNCb\").get_attribute(\"src\")) # src의 이미지 주소를 찍어봄.\n",
    "# # imgUrl = driver.find_element(By.CSS_SELECTOR,\".n3VNCb\").get_attribute(\"src\")\n",
    "# # urllib.request.urlretrieve(imgUrl, \"test.jpg\") # imgUrl을 통해 test용 사진을 저장함.\n",
    "\n",
    "## 반복문을 통한 이미지 저장\n",
    "\n",
    "# 스크롤 높이를 구함\n",
    "last_height = driver.execute_script(\"return document.body.scrollHeight\")\n",
    "\n",
    "while True:\n",
    "    # 맨 밑까지 스크롤 내림\n",
    "    driver.execute_script(\"window.scrollTo(0, document.body.scrollHeight);\")\n",
    "\n",
    "    # 페이지 기다림\n",
    "    time.sleep(3)\n",
    "\n",
    "    # 마지막 스크롤과의 높이 비교를 통해 스크롤 다운 종료\n",
    "    new_height = driver.execute_script(\"return document.body.scrollHeight\")\n",
    "    if new_height == last_height:\n",
    "        try:\n",
    "            driver.find_element(By.CSS_SELECTOR,\".mye4qd\").click()\n",
    "        except:\n",
    "            print(\"표시할 결과가 없습니다!\")\n",
    "            break\n",
    "    last_height = new_height\n",
    "\n",
    "images = driver.find_elements(By.CSS_SELECTOR,\"a.wXeWr.islib.nfEiy\") # 검색된 창에 나오는 여러 이미지들\n",
    "count = 1\n",
    "for image in images:\n",
    "    # image.click()\n",
    "    image.send_keys(Keys.RETURN)\n",
    "    time.sleep(3)\n",
    "    imgUrl = driver.find_element(By.CSS_SELECTOR,\".n3VNCb\").get_attribute(\"src\")\n",
    "    urllib.request.urlretrieve(imgUrl, \"./crawling_img/\"+str(count)+\".jpg\")\n",
    "    count = count + 1\n",
    "    \n",
    "    \n",
    "driver.close()\n",
    "print(\"모든 이미지 파일을 저장하였습니다.\")"
   ]
  },
  {
   "cell_type": "code",
   "execution_count": null,
   "metadata": {},
   "outputs": [],
   "source": []
  }
 ],
 "metadata": {
  "kernelspec": {
   "display_name": "Python 3.9.12 ('base')",
   "language": "python",
   "name": "python3"
  },
  "language_info": {
   "codemirror_mode": {
    "name": "ipython",
    "version": 3
   },
   "file_extension": ".py",
   "mimetype": "text/x-python",
   "name": "python",
   "nbconvert_exporter": "python",
   "pygments_lexer": "ipython3",
   "version": "3.9.12"
  },
  "orig_nbformat": 4,
  "vscode": {
   "interpreter": {
    "hash": "ad2bdc8ecc057115af97d19610ffacc2b4e99fae6737bb82f5d7fb13d2f2c186"
   }
  }
 },
 "nbformat": 4,
 "nbformat_minor": 2
}
